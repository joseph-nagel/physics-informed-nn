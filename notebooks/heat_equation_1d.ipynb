{
 "cells": [
  {
   "cell_type": "markdown",
   "id": "c4908be3-daec-446e-888f-3b4f90947807",
   "metadata": {},
   "source": [
    "# Heat equation example in 1D\n",
    "\n",
    "One of the simplest examples of solving PDEs with neural networks is considered in this notebook. A problem is set up in such a way that it admits an exact solution, which can be compared to a PINN approximation. The heat transfer example is based on the **one-dimensional heat equation**\n",
    "$$\n",
    "\\frac{\\partial u}{\\partial t} - \\alpha \\frac{\\partial^2 u}{\\partial x^2} = 0, \\quad\n",
    "t \\in [0, T], \\quad x \\in [0, L].\n",
    "$$\n",
    "Dirichlet boundary conditions $u(t, 0) = u(t, L) = 0$ for $t \\in [0, T]$ and initial conditions $u(0, x) = u_0(x) = \\sin \\left( \\frac{n \\pi x}{L} \\right)$ for $x \\in [0, L]$ and a certain $n \\in \\{1, 2, \\ldots\\}$ are imposed. Through **separation of variables** one can obtain the factorized solution as\n",
    "$$\n",
    "u(t, x) = \\sin \\left( \\frac{n \\pi}{L} x \\right) \\exp \\left( -\\frac{n^2 \\pi^2}{L^2} \\alpha t \\right).\n",
    "$$"
   ]
  },
  {
   "cell_type": "code",
   "execution_count": null,
   "id": "88c4efc7-7364-4a28-b3f3-89642ed32b0f",
   "metadata": {},
   "outputs": [],
   "source": [
    "%load_ext autoreload\n",
    "%autoreload 2\n",
    "%matplotlib inline\n",
    "\n",
    "import sys\n",
    "sys.path.append('..')"
   ]
  },
  {
   "cell_type": "code",
   "execution_count": null,
   "id": "03965e22-7805-4338-a3f2-41851978b383",
   "metadata": {},
   "outputs": [],
   "source": [
    "import numpy as np\n",
    "import matplotlib.pyplot as plt\n",
    "import torch\n",
    "\n",
    "from utils import (\n",
    "    HeatConduction1D,\n",
    "    PINN,\n",
    "    train_pinn,\n",
    "    make_colors\n",
    ")"
   ]
  },
  {
   "cell_type": "code",
   "execution_count": null,
   "id": "24fadd59-3212-426b-9751-3a59007d5d7e",
   "metadata": {},
   "outputs": [],
   "source": [
    "_ = torch.manual_seed(123456789) # set random seed manually"
   ]
  },
  {
   "cell_type": "markdown",
   "id": "60e91964-07bb-462e-af63-72166a1b2038",
   "metadata": {},
   "source": [
    "## Problem setup\n",
    "\n",
    "As a first step, we formulate a specific heat transfer problem by setting the defining physical parameters. An instance `simple_problem` of the class `HeatConduction1D` is created to that end."
   ]
  },
  {
   "cell_type": "code",
   "execution_count": null,
   "id": "ed4f7a88-438b-44f3-8228-a4952aadff1b",
   "metadata": {},
   "outputs": [],
   "source": [
    "alpha = 0.07 # thermal diffusivity\n",
    "length = 1.0 # rod length\n",
    "maxtime = 1.0 # time length\n",
    "n = 3 # initial condition\n",
    "\n",
    "simple_problem = HeatConduction1D(\n",
    "    alpha=alpha,\n",
    "    length=length,\n",
    "    maxtime=maxtime,\n",
    "    n=n\n",
    ")"
   ]
  },
  {
   "cell_type": "markdown",
   "id": "5b96393c-6dd1-432a-bfd2-09e2fb04a723",
   "metadata": {},
   "source": [
    "## Exact solution\n",
    "\n",
    "The problem defined above admits an analytical solution. It can be computed by calling the class instance we just created for certain time and location inputs. This simply looks like `u_values = simple_problem(t=t, x=x)` in the code."
   ]
  },
  {
   "cell_type": "code",
   "execution_count": null,
   "id": "63fc9ecf-753e-4dbc-8eca-303b44c86bb4",
   "metadata": {},
   "outputs": [],
   "source": [
    "t_values = torch.linspace(0, maxtime, 1001)\n",
    "x_values = torch.linspace(0, length, 1001)\n",
    "\n",
    "t = t_values.view(-1, 1) # (time, 1)\n",
    "x = x_values.view(1, -1) # (1, space)\n",
    "\n",
    "u_values = simple_problem(t=t, x=x) # (time, space)"
   ]
  },
  {
   "cell_type": "markdown",
   "id": "e49badae-dab4-45df-96de-c972921a97ab",
   "metadata": {},
   "source": [
    "In the cells below, the exact solution from above is visualized in two different ways."
   ]
  },
  {
   "cell_type": "code",
   "execution_count": null,
   "id": "17303256-632c-445b-9194-fb2a9be7371e",
   "metadata": {},
   "outputs": [],
   "source": [
    "tids = (0, 50, 100, 150, 200, -1)\n",
    "colors = make_colors(len(tids), seq_cm=plt.cm.viridis_r, ensure_seq=True)\n",
    "\n",
    "fig, ax = plt.subplots(figsize=(6, 4))\n",
    "for tidx, color in zip(tids, colors):\n",
    "    ax.plot(\n",
    "        x_values.numpy(), u_values[tidx,:].numpy(),\n",
    "        color=color, alpha=0.8,\n",
    "        label='t={:.2f}'.format(t_values[tidx].item())\n",
    "    )\n",
    "ax.set(xlabel='x', ylabel='u(t, x)')\n",
    "ax.set_xlim((x_values.min(), x_values.max()))\n",
    "ax.legend()\n",
    "ax.grid(visible=True, which='both', color='lightgray', linestyle='-')\n",
    "ax.set_axisbelow(True)\n",
    "fig.tight_layout()"
   ]
  },
  {
   "cell_type": "code",
   "execution_count": null,
   "id": "3ccd5c44-8f30-429e-8c59-c422084ed6a1",
   "metadata": {},
   "outputs": [],
   "source": [
    "fig, ax = plt.subplots(figsize=(6, 4))\n",
    "img = ax.imshow(\n",
    "    u_values.numpy().T,\n",
    "    cmap='PRGn',\n",
    "    aspect='auto',\n",
    "    interpolation='bilinear',\n",
    "    vmin=np.round(u_values.min()),\n",
    "    vmax=np.round(u_values.max()),\n",
    "    origin='lower',\n",
    "    extent=(0, maxtime, 0, length)\n",
    ")\n",
    "ax.set(xlabel='t', ylabel='x')\n",
    "fig.colorbar(img, ax=ax)\n",
    "fig.tight_layout()"
   ]
  },
  {
   "cell_type": "markdown",
   "id": "ff599373-142d-4664-b2ea-efddfb516add",
   "metadata": {},
   "source": [
    "## PINN approximation\n",
    "\n",
    "An approximation to the exact solution is now computed. We therefore instantiate a `PINN`-object that constructs a feedforward NN as the prediction model and features dedicated methods for computing the losses. A small number of architectural parameters and loss weights have to be set."
   ]
  },
  {
   "cell_type": "code",
   "execution_count": null,
   "id": "473aaa47-ecdd-410d-9c8c-55f4ea60bc12",
   "metadata": {},
   "outputs": [],
   "source": [
    "num_inputs = 2 # number of inputs\n",
    "num_outputs = 1 # number of outputs\n",
    "num_hidden = (32, 32, 32) # number of hidden neurons\n",
    "activation = 'tanh' # activation function\n",
    "\n",
    "pde_weight = 1.0 # weight of the PDE loss\n",
    "bc_weight = 1.0 # weight of the BC loss\n",
    "ic_weight = 1.0 # weight of the IC loss\n",
    "reduction = 'mean' # loss reduction mode\n",
    "\n",
    "pinn = PINN(\n",
    "    num_inputs,\n",
    "    num_outputs,\n",
    "    num_hidden=num_hidden,\n",
    "    activation=activation,\n",
    "    pde_weight=pde_weight,\n",
    "    bc_weight=bc_weight,\n",
    "    ic_weight=ic_weight,\n",
    "    reduction=reduction,\n",
    "    alpha=alpha,\n",
    "    length=length,\n",
    "    maxtime=maxtime,\n",
    "    n=n\n",
    ")"
   ]
  },
  {
   "cell_type": "markdown",
   "id": "0e380781-dcd0-497e-832e-2c1140ec237c",
   "metadata": {},
   "source": [
    "Two sets of collocation points are randomly sampled for training and validation purposes. They remain fixed throughout the training once they are created. It is noted that, of course, one could randomly resample during training or opt for a non-random selection as well."
   ]
  },
  {
   "cell_type": "code",
   "execution_count": null,
   "id": "e36c293a-6444-4e13-8954-3c18823d8827",
   "metadata": {},
   "outputs": [],
   "source": [
    "train_nums = {\n",
    "    'num_pde': 5000, # number of train samples for PDE loss\n",
    "    'num_bc': 500, # number of train samples for BC loss\n",
    "    'num_ic': 500 # number of train samples for IC loss\n",
    "}\n",
    "\n",
    "val_nums = {\n",
    "    'num_pde': 1000, # number of val. samples for PDE loss\n",
    "    'num_bc': 100, # number of val. samples for BC loss\n",
    "    'num_ic': 100 # number of val. samples for IC loss\n",
    "}\n",
    "\n",
    "train_colloc = pinn.make_collocation(**train_nums, random=True)\n",
    "val_colloc = pinn.make_collocation(**val_nums, random=True)"
   ]
  },
  {
   "cell_type": "markdown",
   "id": "70092145-4ce9-4350-85fb-d7ff597d1fcd",
   "metadata": {},
   "source": [
    "The function `train_pinn` implements a non-batched PINN training scheme for fixed collocation points. It runs on the CPU due to the problem being rather small-scale after all. No data-based regression loss is used here, such that the training proceeds by minimizing only a physics-based loss function."
   ]
  },
  {
   "cell_type": "code",
   "execution_count": null,
   "id": "1a2f2b76-c859-47f2-969d-3841ba95d53e",
   "metadata": {
    "scrolled": true
   },
   "outputs": [],
   "source": [
    "num_epochs = int(1e04) # number of training epochs\n",
    "\n",
    "optimizer = torch.optim.Adam(pinn.parameters(), lr=0.001)\n",
    "\n",
    "history = train_pinn(\n",
    "    pinn,\n",
    "    optimizer,\n",
    "    num_epochs,\n",
    "    train_colloc,\n",
    "    val_colloc,\n",
    "    print_every=100\n",
    ")"
   ]
  },
  {
   "cell_type": "markdown",
   "id": "546840a8-426d-43d9-950c-fa71aadabd30",
   "metadata": {},
   "source": [
    "Let us have a look at the learning curves."
   ]
  },
  {
   "cell_type": "code",
   "execution_count": null,
   "id": "5cc66cb3-47e2-4a4a-9728-4c309b92802e",
   "metadata": {},
   "outputs": [],
   "source": [
    "fig, ax = plt.subplots(figsize=(6, 4))\n",
    "ax.plot(history['train_loss'], alpha=0.7, label='train')\n",
    "ax.plot(history['val_loss'], alpha=0.7, label='val')\n",
    "ax.set(xlabel='epoch', ylabel='physics loss')\n",
    "ax.set_xlim((0, max(len(history['train_loss']), len(history['val_loss'])) - 1))\n",
    "ax.set_yscale('log')\n",
    "ax.legend()\n",
    "ax.grid(visible=True, which='both', color='gray', alpha=0.2, linestyle='-')\n",
    "ax.set_axisbelow(True)\n",
    "fig.tight_layout()"
   ]
  },
  {
   "cell_type": "markdown",
   "id": "2b71d942-da08-4d2f-86e8-8d27db1b1939",
   "metadata": {},
   "source": [
    "In order to assess the quality of the trained PINN, one can compare its predictions to the exact solution. This requires to evaluate the approximation on a grid of input values."
   ]
  },
  {
   "cell_type": "code",
   "execution_count": null,
   "id": "787fcdbc-1361-42e5-9f85-ec2dc7ed42f8",
   "metadata": {},
   "outputs": [],
   "source": [
    "t_grid, x_grid = torch.meshgrid(t_values, x_values, indexing='ij')\n",
    "\n",
    "with torch.no_grad():\n",
    "    pred_values = pinn(t=t_grid.reshape(-1), x=x_grid.reshape(-1)) # (time * space, 1)\n",
    "    pred_values = pred_values.reshape(*t_grid.shape) # (time, space)"
   ]
  },
  {
   "cell_type": "markdown",
   "id": "73612740-851e-4058-9773-517c1ac2bbc0",
   "metadata": {},
   "source": [
    "It is finally time to plot the obtained approximation. This is done in the same two ways as for the analytical solution."
   ]
  },
  {
   "cell_type": "code",
   "execution_count": null,
   "id": "52f474ee-e139-4f8a-bb30-7c95dcd093bf",
   "metadata": {},
   "outputs": [],
   "source": [
    "fig, ax = plt.subplots(figsize=(6, 4))\n",
    "for tidx, color in zip(tids, colors):\n",
    "    ax.plot(\n",
    "        x_values.numpy(), pred_values[tidx,:].numpy(),\n",
    "        color=color, alpha=0.8,\n",
    "        label='t={:.2f}'.format(t_values[tidx].item())\n",
    "    )\n",
    "ax.set(xlabel='x', ylabel='u(t, x)')\n",
    "ax.set_xlim((x_values.min(), x_values.max()))\n",
    "ax.legend()\n",
    "ax.grid(visible=True, which='both', color='lightgray', linestyle='-')\n",
    "ax.set_axisbelow(True)\n",
    "fig.tight_layout()"
   ]
  },
  {
   "cell_type": "code",
   "execution_count": null,
   "id": "3cc5655a-aa43-4cb7-a173-410376a4873f",
   "metadata": {},
   "outputs": [],
   "source": [
    "fig, ax = plt.subplots(figsize=(6, 4))\n",
    "img = ax.imshow(\n",
    "    pred_values.numpy().T,\n",
    "    cmap='PRGn',\n",
    "    aspect='auto',\n",
    "    interpolation='bilinear',\n",
    "    vmin=np.round(pred_values.min()),\n",
    "    vmax=np.round(pred_values.max()),\n",
    "    origin='lower',\n",
    "    extent=(0, maxtime, 0, length)\n",
    ")\n",
    "ax.set(xlabel='t', ylabel='x')\n",
    "fig.colorbar(img, ax=ax)\n",
    "fig.tight_layout()"
   ]
  },
  {
   "cell_type": "markdown",
   "id": "a2cf1da1-7b8e-478c-88cb-a5c86d838f5f",
   "metadata": {},
   "source": [
    "Well, that looks quite OK!"
   ]
  }
 ],
 "metadata": {
  "kernelspec": {
   "display_name": "Python 3 (ipykernel)",
   "language": "python",
   "name": "python3"
  },
  "language_info": {
   "codemirror_mode": {
    "name": "ipython",
    "version": 3
   },
   "file_extension": ".py",
   "mimetype": "text/x-python",
   "name": "python",
   "nbconvert_exporter": "python",
   "pygments_lexer": "ipython3",
   "version": "3.12.4"
  }
 },
 "nbformat": 4,
 "nbformat_minor": 5
}
