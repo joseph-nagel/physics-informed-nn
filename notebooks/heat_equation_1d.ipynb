{
 "cells": [
  {
   "cell_type": "markdown",
   "id": "c4908be3-daec-446e-888f-3b4f90947807",
   "metadata": {},
   "source": [
    "# Heat equation example in 1D\n",
    "\n",
    "One of the simplest examples of solving PDEs with neural networks is considered in this notebook. A problem is set up in such a way that it admits an exact solution, which can be compared compared to a PINN approximation. The heat transfer example is based on the **one-dimensional heat equation**\n",
    "$$\n",
    "\\frac{\\partial u}{\\partial t} - \\alpha \\frac{\\partial^2 u}{\\partial x^2} = 0, \\quad\n",
    "t \\in [0, T], \\quad x \\in [0, L].\n",
    "$$\n",
    "Dirichlet boundary conditions $u(t, 0) = u(t, L) = 0$ for $t \\in [0, T]$ and initial conditions $u(0, x) = u_0(x) = \\sin \\left( \\frac{n \\pi x}{L} \\right)$ for $x \\in [0, L]$ and a certain $n \\in \\{1, 2, \\ldots\\}$ are imposed. Through **separation of variables** one can obtain the factorized solution as\n",
    "$$\n",
    "u(t, x) = \\sin \\left( \\frac{n \\pi}{L} x \\right) \\exp \\left( -\\frac{n^2 \\pi^2}{L^2} \\alpha t \\right).\n",
    "$$"
   ]
  },
  {
   "cell_type": "code",
   "execution_count": null,
   "id": "88c4efc7-7364-4a28-b3f3-89642ed32b0f",
   "metadata": {},
   "outputs": [],
   "source": [
    "%load_ext autoreload\n",
    "%autoreload 2\n",
    "%matplotlib inline\n",
    "\n",
    "import sys\n",
    "sys.path.append('..')"
   ]
  },
  {
   "cell_type": "code",
   "execution_count": null,
   "id": "03965e22-7805-4338-a3f2-41851978b383",
   "metadata": {},
   "outputs": [],
   "source": [
    "import numpy as np\n",
    "import matplotlib.pyplot as plt\n",
    "import torch\n",
    "\n",
    "from utils import SimpleHeatConduction1D"
   ]
  },
  {
   "cell_type": "markdown",
   "id": "60e91964-07bb-462e-af63-72166a1b2038",
   "metadata": {},
   "source": [
    "## Problem setup"
   ]
  },
  {
   "cell_type": "code",
   "execution_count": null,
   "id": "ed4f7a88-438b-44f3-8228-a4952aadff1b",
   "metadata": {},
   "outputs": [],
   "source": [
    "alpha = 0.07\n",
    "length = 1.0\n",
    "n = 3\n",
    "\n",
    "simple_problem = SimpleHeatConduction1D(\n",
    "    alpha=alpha,\n",
    "    length=length,\n",
    "    n=n\n",
    ")"
   ]
  },
  {
   "cell_type": "markdown",
   "id": "5b96393c-6dd1-432a-bfd2-09e2fb04a723",
   "metadata": {},
   "source": [
    "## Exact solution"
   ]
  },
  {
   "cell_type": "code",
   "execution_count": null,
   "id": "63fc9ecf-753e-4dbc-8eca-303b44c86bb4",
   "metadata": {},
   "outputs": [],
   "source": [
    "t_values = np.linspace(0, 1, 1001)\n",
    "x_values = np.linspace(0, length, 1001)\n",
    "\n",
    "t = t_values.reshape(-1, 1) # (time, 1)\n",
    "x = x_values.reshape(1, -1) # (1, space)\n",
    "\n",
    "u_values = simple_problem(t=t, x=x) # (time, space)"
   ]
  },
  {
   "cell_type": "code",
   "execution_count": null,
   "id": "17303256-632c-445b-9194-fb2a9be7371e",
   "metadata": {},
   "outputs": [],
   "source": [
    "fig, ax = plt.subplots(figsize=(6, 4))\n",
    "for tidx in (0, 50, 100, 150, 200, -1):\n",
    "    label = 't={:.2f}'.format(t_values[tidx])\n",
    "    ax.plot(x_values, u_values[tidx,:], alpha=0.8, label=label)\n",
    "ax.set(xlabel='x', ylabel='u(t, x)')\n",
    "ax.set_xlim((x_values.min(), x_values.max()))\n",
    "ax.legend()\n",
    "ax.grid(visible=True, which='both', color='lightgray', linestyle='-')\n",
    "ax.set_axisbelow(True)\n",
    "fig.tight_layout()"
   ]
  },
  {
   "cell_type": "code",
   "execution_count": null,
   "id": "3ccd5c44-8f30-429e-8c59-c422084ed6a1",
   "metadata": {},
   "outputs": [],
   "source": [
    "fig, ax = plt.subplots(figsize=(6, 4))\n",
    "img = ax.imshow(\n",
    "    u_values.T,\n",
    "    cmap='PiYG',\n",
    "    aspect='auto',\n",
    "    interpolation='bilinear',\n",
    "    vmin=-1, vmax=1,\n",
    "    origin='lower',\n",
    "    extent=(0, 1, 0, length)\n",
    ")\n",
    "ax.set(xlabel='t', ylabel='x')\n",
    "fig.colorbar(img, ax=ax)\n",
    "fig.tight_layout()"
   ]
  }
 ],
 "metadata": {
  "kernelspec": {
   "display_name": "Python 3 (ipykernel)",
   "language": "python",
   "name": "python3"
  },
  "language_info": {
   "codemirror_mode": {
    "name": "ipython",
    "version": 3
   },
   "file_extension": ".py",
   "mimetype": "text/x-python",
   "name": "python",
   "nbconvert_exporter": "python",
   "pygments_lexer": "ipython3",
   "version": "3.11.5"
  }
 },
 "nbformat": 4,
 "nbformat_minor": 5
}
